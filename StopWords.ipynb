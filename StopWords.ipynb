{
  "nbformat": 4,
  "nbformat_minor": 0,
  "metadata": {
    "colab": {
      "name": "Untitled14.ipynb",
      "provenance": [],
      "authorship_tag": "ABX9TyN4b5HnM0S6LOo8AtQa+2uI",
      "include_colab_link": true
    },
    "kernelspec": {
      "name": "python3",
      "display_name": "Python 3"
    },
    "language_info": {
      "name": "python"
    }
  },
  "cells": [
    {
      "cell_type": "markdown",
      "metadata": {
        "id": "view-in-github",
        "colab_type": "text"
      },
      "source": [
        "<a href=\"https://colab.research.google.com/github/SrijaniChakrabarti/Tom-riddle-s-diary/blob/main/StopWords.ipynb\" target=\"_parent\"><img src=\"https://colab.research.google.com/assets/colab-badge.svg\" alt=\"Open In Colab\"/></a>"
      ]
    },
    {
      "cell_type": "code",
      "execution_count": 1,
      "metadata": {
        "id": "D4wlQmqVqd8T"
      },
      "outputs": [],
      "source": [
        "import spacy\n",
        "nlp = spacy.load('en_core_web_sm')"
      ]
    },
    {
      "cell_type": "code",
      "source": [
        "print(nlp.Defaults.stop_words)"
      ],
      "metadata": {
        "colab": {
          "base_uri": "https://localhost:8080/"
        },
        "id": "e7KuYhc4quNu",
        "outputId": "2485805a-91fb-4878-dac7-e3566c11dbe1"
      },
      "execution_count": 2,
      "outputs": [
        {
          "output_type": "stream",
          "name": "stdout",
          "text": [
            "{'not', 'are', 'hence', 'become', 'ca', 'cannot', 'onto', 'still', 'quite', 'of', 'on', 'by', 'amount', 'everyone', 'twenty', 'empty', 'hereupon', 'whereafter', 'within', 'a', 'call', 'again', 'my', 'thereupon', 'no', 'because', 'will', 'behind', 'what', 'myself', 'n‘t', 'do', 'yet', 'since', 'four', 'thus', 'while', 'as', 'could', 'an', 'put', 'seem', 'so', 'least', 'at', 'became', 'along', '’m', 'was', 'thereafter', 'whereas', 'off', 'wherever', 'six', 'throughout', 'get', 'say', 'too', 'well', 'that', 'three', 'thru', 'may', 'one', 'part', 'whereupon', 'whence', 'perhaps', 'which', 'besides', 'eleven', 'last', 'this', 'ever', \"'ll\", 'must', 'into', 'against', 'though', 'here', 'does', 'less', 'therefore', 'next', 'toward', 'or', 'nobody', '’ll', 'most', 'front', 're', 'otherwise', 'hundred', 'every', 'bottom', 'nowhere', 'anyway', 'they', 'over', 'whatever', 'am', 'nor', 'much', 'mostly', 'in', 'somewhere', 'name', 'their', 'none', 'whole', 'just', 'together', 'those', 'who', 'me', '‘s', 'themselves', 'former', 'whenever', 'both', 'always', 'someone', 'back', 'seeming', 'more', 'yourself', 'else', 'some', 'forty', 'nine', 'her', 'via', '‘d', 'afterwards', 'anywhere', 'therein', 'your', 'below', 'except', 'used', 'and', 'herself', 'towards', '’s', 'anyone', 'than', 'i', 'up', 'should', '‘m', 'either', 'first', 'move', 'he', 'beside', \"'d\", 'ourselves', 'other', 'whither', 'moreover', 'due', '’ve', 'somehow', 'various', 'had', 'it', 'did', 'anything', 'keep', 'several', 'hereby', 'nothing', 'enough', 'them', 'doing', 'take', 'something', 'whose', 'between', '‘re', 'all', 'have', 'although', 'never', 'any', 'each', 'his', 'elsewhere', 'without', 'hereafter', 'regarding', 'already', 'very', 'sometimes', 'be', 'mine', 'before', 'thereby', 'n’t', 'down', 'for', 'to', 'eight', 'anyhow', 'wherein', 'around', 'namely', \"n't\", 'even', 'through', \"'re\", 'out', 'becoming', 'himself', 'then', 'latterly', 'see', 'itself', 'our', 'serious', \"'s\", 'please', \"'m\", 'noone', 'you', '’re', 'show', 'sixty', 'really', 'been', 'where', 'few', 'us', 'with', 'the', 'until', 'indeed', 'were', 'fifty', 'she', 'amongst', 'after', 'whether', 'upon', 'everywhere', 'also', 'but', 'top', 'whoever', 'another', 'herein', 'about', 'these', 'is', 'such', 'full', 'per', 'becomes', 'often', 'would', 'its', 'has', 'hers', 'why', 'yourselves', 'done', 'him', 'side', 'once', '‘ll', 'meanwhile', 'yours', 'being', 'ours', 'alone', 'seems', 'above', 'across', 'rather', 'there', 'sometime', 'now', '‘ve', 'further', '’d', 'under', 'many', 'give', 'nevertheless', 'beforehand', 'five', 'thence', 'how', 'during', 'whereby', 'almost', 'beyond', 'from', 'fifteen', 'unless', 'made', 'everything', 'own', 'twelve', 'make', 'ten', 'among', 'can', 'only', 'when', 'go', 'however', 'others', 'might', 'we', 'seemed', 'whom', 'two', 'using', 'latter', 'same', 'if', \"'ve\", 'formerly', 'neither', 'third'}\n"
          ]
        }
      ]
    },
    {
      "cell_type": "code",
      "source": [
        "len(nlp.Defaults.stop_words)"
      ],
      "metadata": {
        "colab": {
          "base_uri": "https://localhost:8080/"
        },
        "id": "ZmJzokQFrFN9",
        "outputId": "0256810f-5ed7-4f50-c45e-d2921d47fd1e"
      },
      "execution_count": 3,
      "outputs": [
        {
          "output_type": "execute_result",
          "data": {
            "text/plain": [
              "326"
            ]
          },
          "metadata": {},
          "execution_count": 3
        }
      ]
    },
    {
      "cell_type": "code",
      "source": [
        "nlp.Defaults.stop_words.add('Utopea')"
      ],
      "metadata": {
        "id": "JKGSZKD-rOo0"
      },
      "execution_count": 4,
      "outputs": []
    },
    {
      "cell_type": "code",
      "source": [
        "len(nlp.Defaults.stop_words)"
      ],
      "metadata": {
        "colab": {
          "base_uri": "https://localhost:8080/"
        },
        "id": "7Urc59fqrg02",
        "outputId": "f7a6b445-d1c0-446b-8531-a2d9a31cf757"
      },
      "execution_count": 5,
      "outputs": [
        {
          "output_type": "execute_result",
          "data": {
            "text/plain": [
              "327"
            ]
          },
          "metadata": {},
          "execution_count": 5
        }
      ]
    },
    {
      "cell_type": "code",
      "source": [
        "nlp.vocab['mystery'].is_stop"
      ],
      "metadata": {
        "colab": {
          "base_uri": "https://localhost:8080/"
        },
        "id": "NECdphxIrqa3",
        "outputId": "d2702daa-75ed-4954-a4fb-52c28c8f0a51"
      },
      "execution_count": 7,
      "outputs": [
        {
          "output_type": "execute_result",
          "data": {
            "text/plain": [
              "False"
            ]
          },
          "metadata": {},
          "execution_count": 7
        }
      ]
    },
    {
      "cell_type": "code",
      "source": [
        "nlp.Defaults.stop_words.remove('beyond')"
      ],
      "metadata": {
        "id": "3v8Xaf_7sRg8"
      },
      "execution_count": 8,
      "outputs": []
    }
  ]
}