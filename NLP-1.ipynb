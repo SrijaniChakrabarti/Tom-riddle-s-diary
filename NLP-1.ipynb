{
  "nbformat": 4,
  "nbformat_minor": 0,
  "metadata": {
    "colab": {
      "name": "Untitled10.ipynb",
      "provenance": [],
      "authorship_tag": "ABX9TyM7AAlY4cnVd9N9u1vtjc+i",
      "include_colab_link": true
    },
    "kernelspec": {
      "name": "python3",
      "display_name": "Python 3"
    },
    "language_info": {
      "name": "python"
    }
  },
  "cells": [
    {
      "cell_type": "markdown",
      "metadata": {
        "id": "view-in-github",
        "colab_type": "text"
      },
      "source": [
        "<a href=\"https://colab.research.google.com/github/SrijaniChakrabarti/Tom-riddle-s-diary/blob/main/NLP-1.ipynb\" target=\"_parent\"><img src=\"https://colab.research.google.com/assets/colab-badge.svg\" alt=\"Open In Colab\"/></a>"
      ]
    },
    {
      "cell_type": "code",
      "execution_count": 2,
      "metadata": {
        "id": "CjW4SmGlVpPP",
        "outputId": "e3d0848c-3453-4788-f4e8-d16da94e7d0f",
        "colab": {
          "base_uri": "https://localhost:8080/"
        }
      },
      "outputs": [
        {
          "output_type": "execute_result",
          "data": {
            "text/plain": [
              "True"
            ]
          },
          "metadata": {},
          "execution_count": 2
        }
      ],
      "source": [
        "text =\"The phone number of the agent is 408-555-1234.\"\n",
        "\"408-555-1234\" in text\n"
      ]
    },
    {
      "cell_type": "code",
      "source": [
        "import re\n",
        "pattern =\"phone\"\n",
        "re.search(pattern,text)"
      ],
      "metadata": {
        "id": "i8JpYaZ7XX0S",
        "outputId": "a74671de-bf84-485b-e47d-89835cdcc3c1",
        "colab": {
          "base_uri": "https://localhost:8080/"
        }
      },
      "execution_count": 3,
      "outputs": [
        {
          "output_type": "execute_result",
          "data": {
            "text/plain": [
              "<re.Match object; span=(4, 9), match='phone'>"
            ]
          },
          "metadata": {},
          "execution_count": 3
        }
      ]
    },
    {
      "cell_type": "code",
      "source": [
        "matchR = re.search(pattern,text)\n",
        "matchR.span()\n"
      ],
      "metadata": {
        "id": "HrSdBSDvXvFm",
        "outputId": "993c8b79-83b1-43fa-fc69-9150f4ef2eb0",
        "colab": {
          "base_uri": "https://localhost:8080/"
        }
      },
      "execution_count": 5,
      "outputs": [
        {
          "output_type": "execute_result",
          "data": {
            "text/plain": [
              "(4, 9)"
            ]
          },
          "metadata": {},
          "execution_count": 5
        }
      ]
    },
    {
      "cell_type": "code",
      "source": [
        "matchR.start()"
      ],
      "metadata": {
        "id": "ZoXo37OCYLp3",
        "outputId": "b4f2c241-ee62-4214-a000-f55cef31be47",
        "colab": {
          "base_uri": "https://localhost:8080/"
        }
      },
      "execution_count": 6,
      "outputs": [
        {
          "output_type": "execute_result",
          "data": {
            "text/plain": [
              "4"
            ]
          },
          "metadata": {},
          "execution_count": 6
        }
      ]
    },
    {
      "cell_type": "code",
      "source": [
        "matchR.end()"
      ],
      "metadata": {
        "id": "zcCh0E4GYUEv",
        "outputId": "1f26cd9b-d630-4a6b-d0fb-a2630725fc57",
        "colab": {
          "base_uri": "https://localhost:8080/"
        }
      },
      "execution_count": 7,
      "outputs": [
        {
          "output_type": "execute_result",
          "data": {
            "text/plain": [
              "9"
            ]
          },
          "metadata": {},
          "execution_count": 7
        }
      ]
    },
    {
      "cell_type": "code",
      "source": [
        "text=\"my-phone is a new phone\""
      ],
      "metadata": {
        "id": "-gA04zzDYZfu"
      },
      "execution_count": 8,
      "outputs": []
    },
    {
      "cell_type": "code",
      "source": [
        "match = re.search(pattern,text)\n",
        "match.span()"
      ],
      "metadata": {
        "id": "qRGqjba8Yvnm",
        "outputId": "0f130e2a-4f26-4857-fceb-79b713c6165b",
        "colab": {
          "base_uri": "https://localhost:8080/"
        }
      },
      "execution_count": 9,
      "outputs": [
        {
          "output_type": "execute_result",
          "data": {
            "text/plain": [
              "(3, 8)"
            ]
          },
          "metadata": {},
          "execution_count": 9
        }
      ]
    },
    {
      "cell_type": "code",
      "source": [
        "all_matches = re.findall(\"phone\",text)\n",
        "all_matches"
      ],
      "metadata": {
        "id": "O5sicRlxY9sH",
        "outputId": "972eb526-9894-4697-9dfb-e697cb0999ee",
        "colab": {
          "base_uri": "https://localhost:8080/"
        }
      },
      "execution_count": 10,
      "outputs": [
        {
          "output_type": "execute_result",
          "data": {
            "text/plain": [
              "['phone', 'phone']"
            ]
          },
          "metadata": {},
          "execution_count": 10
        }
      ]
    },
    {
      "cell_type": "code",
      "source": [
        "len(all_matches)"
      ],
      "metadata": {
        "id": "pFTFCTOKZPYY",
        "outputId": "220e3c59-2597-4edf-a7bf-58f73ce06064",
        "colab": {
          "base_uri": "https://localhost:8080/"
        }
      },
      "execution_count": 11,
      "outputs": [
        {
          "output_type": "execute_result",
          "data": {
            "text/plain": [
              "2"
            ]
          },
          "metadata": {},
          "execution_count": 11
        }
      ]
    },
    {
      "cell_type": "code",
      "source": [
        "for match in re.finditer(\"phone\",text):\n",
        "  print(match.span())\n",
        "   "
      ],
      "metadata": {
        "id": "uWVc2oq8ZcQ4",
        "outputId": "c3d85c90-ea26-4ec6-89e7-7798f6882d47",
        "colab": {
          "base_uri": "https://localhost:8080/"
        }
      },
      "execution_count": 12,
      "outputs": [
        {
          "output_type": "stream",
          "name": "stdout",
          "text": [
            "(3, 8)\n",
            "(18, 23)\n"
          ]
        }
      ]
    },
    {
      "cell_type": "code",
      "source": [
        "text = \"my phone number is 777-555-1234\"\n",
        "text"
      ],
      "metadata": {
        "id": "coPrHRwTaAXJ",
        "outputId": "b707db05-890b-49e9-c32b-98e7044e974f",
        "colab": {
          "base_uri": "https://localhost:8080/",
          "height": 35
        }
      },
      "execution_count": 14,
      "outputs": [
        {
          "output_type": "execute_result",
          "data": {
            "text/plain": [
              "'my phone number is 777-555-1234'"
            ],
            "application/vnd.google.colaboratory.intrinsic+json": {
              "type": "string"
            }
          },
          "metadata": {},
          "execution_count": 14
        }
      ]
    },
    {
      "cell_type": "code",
      "source": [
        "# Identifiers in regulr expression\n",
        "# \\d -> one digit\n",
        "# \\w -> alphanumeric characters\n",
        "# \\s -> white space\n",
        "# \\W -> Non-alphanumeric characters\n",
        "# \\S -> Non-whitespace\n",
        "# \\D -> A non-digit"
      ],
      "metadata": {
        "id": "MCcod60Ga0Fl"
      },
      "execution_count": 15,
      "outputs": []
    },
    {
      "cell_type": "code",
      "source": [
        "pattern = r'\\d\\d\\d-\\d\\d\\d-\\d\\d\\d\\d'"
      ],
      "metadata": {
        "id": "h4tobGJBdC3h"
      },
      "execution_count": 16,
      "outputs": []
    },
    {
      "cell_type": "code",
      "source": [
        "ph_no= re.search(pattern,text)\n",
        "ph_no"
      ],
      "metadata": {
        "id": "GQ-gj_XddgPa",
        "outputId": "feb9deda-a2e8-4982-dbd3-48c1b3144b89",
        "colab": {
          "base_uri": "https://localhost:8080/"
        }
      },
      "execution_count": 17,
      "outputs": [
        {
          "output_type": "execute_result",
          "data": {
            "text/plain": [
              "<re.Match object; span=(19, 31), match='777-555-1234'>"
            ]
          },
          "metadata": {},
          "execution_count": 17
        }
      ]
    },
    {
      "cell_type": "code",
      "source": [
        "ph_no.group()"
      ],
      "metadata": {
        "id": "fJwTmVGedvpa",
        "outputId": "184c7645-4342-40a9-dfd9-5b2fbc2fd970",
        "colab": {
          "base_uri": "https://localhost:8080/",
          "height": 35
        }
      },
      "execution_count": 18,
      "outputs": [
        {
          "output_type": "execute_result",
          "data": {
            "text/plain": [
              "'777-555-1234'"
            ],
            "application/vnd.google.colaboratory.intrinsic+json": {
              "type": "string"
            }
          },
          "metadata": {},
          "execution_count": 18
        }
      ]
    },
    {
      "cell_type": "code",
      "source": [
        "# quantifiers\n",
        "# Character       Description                   Example pattern code     Example match\n",
        "#     +        Occurs one or more times           Version \\w-\\w+         Version A-b1-1\n",
        "#    {3}       Occurs exactly 3 times                   \\D{3}                 abc\n",
        "#   {2,4}      Occurs 2 to 4 times                     \\d{2,4}                123\n",
        "#    {3,}      Occurs 3 or more                         \\w{3,}            anycharacters\n",
        "#     *        Occurs zero or more times                A*B*C                AAACC\n",
        "#      ?       Once or more                             plurals?             plural"
      ],
      "metadata": {
        "id": "qXvo1Y8ed9Qa"
      },
      "execution_count": 19,
      "outputs": []
    },
    {
      "cell_type": "code",
      "source": [
        "pattern = r'\\d{3}-\\d{3}-\\d{4}'\n",
        "re.search(pattern,text)"
      ],
      "metadata": {
        "id": "EiD-INlkh9Ag",
        "outputId": "a42e5847-9f64-4733-fb3d-9dedca889830",
        "colab": {
          "base_uri": "https://localhost:8080/"
        }
      },
      "execution_count": 20,
      "outputs": [
        {
          "output_type": "execute_result",
          "data": {
            "text/plain": [
              "<re.Match object; span=(19, 31), match='777-555-1234'>"
            ]
          },
          "metadata": {},
          "execution_count": 20
        }
      ]
    },
    {
      "cell_type": "code",
      "source": [
        "# Group Concept"
      ],
      "metadata": {
        "id": "NmsihQWNiTGG"
      },
      "execution_count": 21,
      "outputs": []
    },
    {
      "cell_type": "code",
      "source": [
        "pattern = r'(\\d{3})-(\\d{3})-(\\d{4})'#() is the group separator here.\n",
        "mymatch = re.search (pattern,text)\n",
        "mymatch.group(1)"
      ],
      "metadata": {
        "id": "qS-nHVl4jwJH",
        "outputId": "37ff6081-094c-4a25-994a-2c0fbc88074a",
        "colab": {
          "base_uri": "https://localhost:8080/",
          "height": 35
        }
      },
      "execution_count": 28,
      "outputs": [
        {
          "output_type": "execute_result",
          "data": {
            "text/plain": [
              "'777'"
            ],
            "application/vnd.google.colaboratory.intrinsic+json": {
              "type": "string"
            }
          },
          "metadata": {},
          "execution_count": 28
        }
      ]
    },
    {
      "cell_type": "code",
      "source": [
        "mymatch.group(2)"
      ],
      "metadata": {
        "id": "KdKap2QAkbPb",
        "outputId": "1147e07b-f240-4f95-be8d-15a73e32a84c",
        "colab": {
          "base_uri": "https://localhost:8080/",
          "height": 35
        }
      },
      "execution_count": 26,
      "outputs": [
        {
          "output_type": "execute_result",
          "data": {
            "text/plain": [
              "'555'"
            ],
            "application/vnd.google.colaboratory.intrinsic+json": {
              "type": "string"
            }
          },
          "metadata": {},
          "execution_count": 26
        }
      ]
    },
    {
      "cell_type": "code",
      "source": [
        "mymatch.group(3)"
      ],
      "metadata": {
        "id": "omHwS58XkjAN",
        "outputId": "ccef95c5-3494-44a0-ecce-81f283bb2f03",
        "colab": {
          "base_uri": "https://localhost:8080/",
          "height": 35
        }
      },
      "execution_count": 27,
      "outputs": [
        {
          "output_type": "execute_result",
          "data": {
            "text/plain": [
              "'1234'"
            ],
            "application/vnd.google.colaboratory.intrinsic+json": {
              "type": "string"
            }
          },
          "metadata": {},
          "execution_count": 27
        }
      ]
    },
    {
      "cell_type": "code",
      "source": [
        "re.search(r'man| woman',\"This man is here\") # '|' operator is used here to ctagorize"
      ],
      "metadata": {
        "id": "BX5qHU6gks6G",
        "outputId": "ecd11fe5-fa82-4d44-92c7-1fef853cf795",
        "colab": {
          "base_uri": "https://localhost:8080/"
        }
      },
      "execution_count": 31,
      "outputs": [
        {
          "output_type": "execute_result",
          "data": {
            "text/plain": [
              "<re.Match object; span=(5, 8), match='man'>"
            ]
          },
          "metadata": {},
          "execution_count": 31
        }
      ]
    },
    {
      "cell_type": "code",
      "source": [
        "re.search(r'man|woman','This woman is here')"
      ],
      "metadata": {
        "id": "kiJ2JOSsllG7",
        "outputId": "289de1e3-d3d4-4c25-8d5f-8890e519861b",
        "colab": {
          "base_uri": "https://localhost:8080/"
        }
      },
      "execution_count": 32,
      "outputs": [
        {
          "output_type": "execute_result",
          "data": {
            "text/plain": [
              "<re.Match object; span=(5, 10), match='woman'>"
            ]
          },
          "metadata": {},
          "execution_count": 32
        }
      ]
    },
    {
      "cell_type": "code",
      "source": [
        "re.findall(r'.at','The cat in hat sat splat') # wild card as '.at' here"
      ],
      "metadata": {
        "id": "_9zpcgN4l4ib",
        "outputId": "fa540058-da56-41a6-8d21-c2f0f36948b3",
        "colab": {
          "base_uri": "https://localhost:8080/"
        }
      },
      "execution_count": 36,
      "outputs": [
        {
          "output_type": "execute_result",
          "data": {
            "text/plain": [
              "['cat', 'hat', 'sat', 'lat']"
            ]
          },
          "metadata": {},
          "execution_count": 36
        }
      ]
    },
    {
      "cell_type": "code",
      "source": [
        "re.findall(r'\\d$','This ends at 2') # $ finds the digit at end"
      ],
      "metadata": {
        "id": "CZPzk6jjnHaS",
        "outputId": "5a3c708f-de8b-4a0d-f8c6-32e29258092f",
        "colab": {
          "base_uri": "https://localhost:8080/"
        }
      },
      "execution_count": 37,
      "outputs": [
        {
          "output_type": "execute_result",
          "data": {
            "text/plain": [
              "['2']"
            ]
          },
          "metadata": {},
          "execution_count": 37
        }
      ]
    },
    {
      "cell_type": "code",
      "source": [
        "re.findall(r'^\\d', '1 is the smallest')"
      ],
      "metadata": {
        "id": "Pq0ga99qnigJ",
        "outputId": "a456e90d-7e82-4533-e147-0c0722da63cf",
        "colab": {
          "base_uri": "https://localhost:8080/"
        }
      },
      "execution_count": 38,
      "outputs": [
        {
          "output_type": "execute_result",
          "data": {
            "text/plain": [
              "['1']"
            ]
          },
          "metadata": {},
          "execution_count": 38
        }
      ]
    },
    {
      "cell_type": "code",
      "source": [
        "phrase = \"there are 3 numbers 34 inside 5 this sentence \"\n",
        "re.findall(r'[^\\d]',phrase)"
      ],
      "metadata": {
        "id": "QHvVvihlnygi",
        "outputId": "4ba5ae9b-61d2-43c3-a130-ef83de54bd72",
        "colab": {
          "base_uri": "https://localhost:8080/"
        }
      },
      "execution_count": 39,
      "outputs": [
        {
          "output_type": "execute_result",
          "data": {
            "text/plain": [
              "['t',\n",
              " 'h',\n",
              " 'e',\n",
              " 'r',\n",
              " 'e',\n",
              " ' ',\n",
              " 'a',\n",
              " 'r',\n",
              " 'e',\n",
              " ' ',\n",
              " ' ',\n",
              " 'n',\n",
              " 'u',\n",
              " 'm',\n",
              " 'b',\n",
              " 'e',\n",
              " 'r',\n",
              " 's',\n",
              " ' ',\n",
              " ' ',\n",
              " 'i',\n",
              " 'n',\n",
              " 's',\n",
              " 'i',\n",
              " 'd',\n",
              " 'e',\n",
              " ' ',\n",
              " ' ',\n",
              " 't',\n",
              " 'h',\n",
              " 'i',\n",
              " 's',\n",
              " ' ',\n",
              " 's',\n",
              " 'e',\n",
              " 'n',\n",
              " 't',\n",
              " 'e',\n",
              " 'n',\n",
              " 'c',\n",
              " 'e',\n",
              " ' ']"
            ]
          },
          "metadata": {},
          "execution_count": 39
        }
      ]
    },
    {
      "cell_type": "code",
      "source": [
        ""
      ],
      "metadata": {
        "id": "qV3fAZYqtQez"
      },
      "execution_count": null,
      "outputs": []
    },
    {
      "cell_type": "code",
      "source": [
        "re.findall(r'[^\\d]+',phrase)"
      ],
      "metadata": {
        "id": "lWGFeKtyofvK",
        "outputId": "5d9409e4-2abd-4bfd-b8ad-c7ca490c49cf",
        "colab": {
          "base_uri": "https://localhost:8080/"
        }
      },
      "execution_count": 40,
      "outputs": [
        {
          "output_type": "execute_result",
          "data": {
            "text/plain": [
              "['there are ', ' numbers ', ' inside ', ' this sentence ']"
            ]
          },
          "metadata": {},
          "execution_count": 40
        }
      ]
    },
    {
      "cell_type": "code",
      "source": [
        "t_phrase = \"string! but it has. how to do it?\"\n",
        "re.findall(r'[^!.? ]+',t_phrase) # here excluded operators are !, .,?, whitespace"
      ],
      "metadata": {
        "id": "VWFcHASVpcK_",
        "outputId": "51893033-74ac-4618-c124-1f4a0fc4c0a0",
        "colab": {
          "base_uri": "https://localhost:8080/"
        }
      },
      "execution_count": 47,
      "outputs": [
        {
          "output_type": "execute_result",
          "data": {
            "text/plain": [
              "['string', 'but', 'it', 'has', 'how', 'to', 'do', 'it']"
            ]
          },
          "metadata": {},
          "execution_count": 47
        }
      ]
    },
    {
      "cell_type": "code",
      "source": [
        "mylist = re.findall(r'[^!.? ]+',t_phrase)\n",
        "mylist"
      ],
      "metadata": {
        "id": "vJW249bdrE7g",
        "outputId": "79201dc5-8e06-4a0b-f4e4-27a7de351bf2",
        "colab": {
          "base_uri": "https://localhost:8080/"
        }
      },
      "execution_count": 48,
      "outputs": [
        {
          "output_type": "execute_result",
          "data": {
            "text/plain": [
              "['string', 'but', 'it', 'has', 'how', 'to', 'do', 'it']"
            ]
          },
          "metadata": {},
          "execution_count": 48
        }
      ]
    },
    {
      "cell_type": "code",
      "source": [
        "' '.join(mylist)"
      ],
      "metadata": {
        "id": "yJf_RdiorihF",
        "outputId": "bd7f7c55-c0d3-4da1-d9c3-95010958fd43",
        "colab": {
          "base_uri": "https://localhost:8080/",
          "height": 35
        }
      },
      "execution_count": 49,
      "outputs": [
        {
          "output_type": "execute_result",
          "data": {
            "text/plain": [
              "'string but it has how to do it'"
            ],
            "application/vnd.google.colaboratory.intrinsic+json": {
              "type": "string"
            }
          },
          "metadata": {},
          "execution_count": 49
        }
      ]
    },
    {
      "cell_type": "code",
      "source": [
        "trt=\"we like hyphen-words only. find longest-one .\"\n",
        "re.findall(r'[\\w]+-[\\w]+', trt)"
      ],
      "metadata": {
        "id": "rud2rBQEsil4",
        "outputId": "2e35062b-db70-4122-e1f1-159ddd56eea8",
        "colab": {
          "base_uri": "https://localhost:8080/"
        }
      },
      "execution_count": 50,
      "outputs": [
        {
          "output_type": "execute_result",
          "data": {
            "text/plain": [
              "['hyphen-words', 'longest-one']"
            ]
          },
          "metadata": {},
          "execution_count": 50
        }
      ]
    },
    {
      "cell_type": "code",
      "source": [
        "import spacy"
      ],
      "metadata": {
        "id": "D3YcRV2ptTvW"
      },
      "execution_count": 52,
      "outputs": []
    },
    {
      "cell_type": "code",
      "source": [
        ""
      ],
      "metadata": {
        "id": "kwg9RGHxyic1"
      },
      "execution_count": null,
      "outputs": []
    }
  ]
}