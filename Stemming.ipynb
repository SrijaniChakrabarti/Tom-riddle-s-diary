{
  "nbformat": 4,
  "nbformat_minor": 0,
  "metadata": {
    "colab": {
      "name": "Untitled12.ipynb",
      "provenance": [],
      "authorship_tag": "ABX9TyNekaI2dATsZauJ9gYO+eHL",
      "include_colab_link": true
    },
    "kernelspec": {
      "name": "python3",
      "display_name": "Python 3"
    },
    "language_info": {
      "name": "python"
    }
  },
  "cells": [
    {
      "cell_type": "markdown",
      "metadata": {
        "id": "view-in-github",
        "colab_type": "text"
      },
      "source": [
        "<a href=\"https://colab.research.google.com/github/SrijaniChakrabarti/Tom-riddle-s-diary/blob/main/Stemming.ipynb\" target=\"_parent\"><img src=\"https://colab.research.google.com/assets/colab-badge.svg\" alt=\"Open In Colab\"/></a>"
      ]
    },
    {
      "cell_type": "code",
      "execution_count": null,
      "metadata": {
        "id": "Et4IVth-aCRd"
      },
      "outputs": [],
      "source": [
        "# stemming is chopping off end letters until it reaches to stem\n",
        "# stemming is not included in spacy , so we get back to NLTK \n",
        "# It has its own limitation\n",
        "# Porter stemmer and Snowball stemmer"
      ]
    },
    {
      "cell_type": "code",
      "source": [
        "import nltk\n",
        "from nltk.stem.porter import PorterStemmer"
      ],
      "metadata": {
        "id": "Df2cl2sUbZ8f"
      },
      "execution_count": 1,
      "outputs": []
    },
    {
      "cell_type": "code",
      "source": [
        "p_stemmer = PorterStemmer()\n",
        "words = ['run','runner','ran', 'easily']\n",
        "for word in words:\n",
        "  print(word+'--->'+ p_stemmer.stem(word))"
      ],
      "metadata": {
        "colab": {
          "base_uri": "https://localhost:8080/"
        },
        "id": "lKibn_kJc0Sc",
        "outputId": "af66d6c5-de5d-4914-dd0d-25de7ca2e82c"
      },
      "execution_count": 2,
      "outputs": [
        {
          "output_type": "stream",
          "name": "stdout",
          "text": [
            "run--->run\n",
            "runner--->runner\n",
            "ran--->ran\n",
            "easily--->easili\n"
          ]
        }
      ]
    },
    {
      "cell_type": "code",
      "source": [
        "from nltk.stem.snowball import SnowballStemmer\n",
        "s_stemmer = SnowballStemmer(language = 'english')\n",
        "for word in words:\n",
        "  print(word + ' --> '+ s_stemmer.stem(word))\n"
      ],
      "metadata": {
        "colab": {
          "base_uri": "https://localhost:8080/"
        },
        "id": "k434MNcweVpL",
        "outputId": "7f7f1ba1-66d1-43f3-e830-d0f5c028cb22"
      },
      "execution_count": 4,
      "outputs": [
        {
          "output_type": "stream",
          "name": "stdout",
          "text": [
            "run --> run\n",
            "runner --> runner\n",
            "ran --> ran\n",
            "easily --> easili\n"
          ]
        }
      ]
    },
    {
      "cell_type": "code",
      "source": [
        ""
      ],
      "metadata": {
        "id": "LMcJd-oegKXR"
      },
      "execution_count": null,
      "outputs": []
    }
  ]
}