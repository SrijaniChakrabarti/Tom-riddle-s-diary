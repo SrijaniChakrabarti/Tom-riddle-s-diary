{
  "nbformat": 4,
  "nbformat_minor": 0,
  "metadata": {
    "colab": {
      "name": "Untitled13.ipynb",
      "provenance": [],
      "authorship_tag": "ABX9TyO0BCc+NryNcxiJa49/jQ4N",
      "include_colab_link": true
    },
    "kernelspec": {
      "name": "python3",
      "display_name": "Python 3"
    },
    "language_info": {
      "name": "python"
    }
  },
  "cells": [
    {
      "cell_type": "markdown",
      "metadata": {
        "id": "view-in-github",
        "colab_type": "text"
      },
      "source": [
        "<a href=\"https://colab.research.google.com/github/SrijaniChakrabarti/Tom-riddle-s-diary/blob/main/Lemmatization.ipynb\" target=\"_parent\"><img src=\"https://colab.research.google.com/assets/colab-badge.svg\" alt=\"Open In Colab\"/></a>"
      ]
    },
    {
      "cell_type": "code",
      "execution_count": 2,
      "metadata": {
        "id": "ue305NT2hNHy"
      },
      "outputs": [],
      "source": [
        "import spacy\n",
        "nlp = spacy.load('en_core_web_sm')"
      ]
    },
    {
      "cell_type": "code",
      "source": [
        "doc1 = nlp(u'I am running because these dogs are dangerous.')\n",
        "for token in doc1:\n",
        "  print(token.text ,'\\t', token.pos_,'\\t',token.lemma,'\\t',token.lemma_)"
      ],
      "metadata": {
        "colab": {
          "base_uri": "https://localhost:8080/"
        },
        "id": "a6oqIIeEiM-I",
        "outputId": "0fc1f4f5-6689-422e-f0fb-01781116d193"
      },
      "execution_count": 4,
      "outputs": [
        {
          "output_type": "stream",
          "name": "stdout",
          "text": [
            "I \t PRON \t 4690420944186131903 \t I\n",
            "am \t AUX \t 10382539506755952630 \t be\n",
            "running \t VERB \t 12767647472892411841 \t run\n",
            "because \t SCONJ \t 16950148841647037698 \t because\n",
            "these \t DET \t 6459564349623679250 \t these\n",
            "dogs \t NOUN \t 7562983679033046312 \t dog\n",
            "are \t AUX \t 10382539506755952630 \t be\n",
            "dangerous \t ADJ \t 17749297079287478411 \t dangerous\n",
            ". \t PUNCT \t 12646065887601541794 \t .\n"
          ]
        }
      ]
    },
    {
      "cell_type": "code",
      "source": [
        "# function in lemmatization\n",
        "def show_lemmas(doc):\n",
        "  for token in doc:\n",
        "    print( f'{token.text:{12}} {token.pos_:{6}} {token.lemma:<{22}} {token.lemma_}')\n",
        "doc3 = nlp(u'we love you')\n",
        "show_lemmas(doc3)"
      ],
      "metadata": {
        "colab": {
          "base_uri": "https://localhost:8080/"
        },
        "id": "_2V2g-fLjZKK",
        "outputId": "d39fa6eb-f398-41c1-fe57-45a61ae297b4"
      },
      "execution_count": 15,
      "outputs": [
        {
          "output_type": "stream",
          "name": "stdout",
          "text": [
            "we           PRON   16064069575701507746   we\n",
            "love         VERB   3702023516439754181    love\n",
            "you          PRON   7624161793554793053    you\n"
          ]
        }
      ]
    },
    {
      "cell_type": "code",
      "source": [
        "doc3 = nlp(u'we love you')\n",
        "show_lemmas(doc3)"
      ],
      "metadata": {
        "colab": {
          "base_uri": "https://localhost:8080/"
        },
        "id": "lC70N8FSiifi",
        "outputId": "a7ec69fb-9276-4254-be9b-ca9930f2d07c"
      },
      "execution_count": 16,
      "outputs": [
        {
          "output_type": "stream",
          "name": "stdout",
          "text": [
            "we           PRON   16064069575701507746   we\n",
            "love         VERB   3702023516439754181    love\n",
            "you          PRON   7624161793554793053    you\n"
          ]
        }
      ]
    },
    {
      "cell_type": "code",
      "source": [
        ""
      ],
      "metadata": {
        "id": "swk3VLxFiAta"
      },
      "execution_count": null,
      "outputs": []
    }
  ]
}