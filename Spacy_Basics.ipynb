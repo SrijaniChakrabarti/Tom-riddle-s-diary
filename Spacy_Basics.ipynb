{
  "nbformat": 4,
  "nbformat_minor": 0,
  "metadata": {
    "colab": {
      "name": "Spacy-Basics.ipynb",
      "provenance": [],
      "authorship_tag": "ABX9TyNl00nyJTcJ4uQlQkBwa6JR",
      "include_colab_link": true
    },
    "kernelspec": {
      "name": "python3",
      "display_name": "Python 3"
    },
    "language_info": {
      "name": "python"
    }
  },
  "cells": [
    {
      "cell_type": "markdown",
      "metadata": {
        "id": "view-in-github",
        "colab_type": "text"
      },
      "source": [
        "<a href=\"https://colab.research.google.com/github/SrijaniChakrabarti/Tom-riddle-s-diary/blob/main/Spacy_Basics.ipynb\" target=\"_parent\"><img src=\"https://colab.research.google.com/assets/colab-badge.svg\" alt=\"Open In Colab\"/></a>"
      ]
    },
    {
      "cell_type": "code",
      "execution_count": null,
      "metadata": {
        "id": "gWOSftYE2JnG"
      },
      "outputs": [],
      "source": [
        "# Spacy is more efficient than NLTK . It takes less time . \n",
        "#Spacy works with a pipeline object.\n",
        "#The nlp() function from Spacy automatically takes raw text and performs a series of operations to tag , parse and describe the text data."
      ]
    },
    {
      "cell_type": "code",
      "source": [
        "import spacy"
      ],
      "metadata": {
        "id": "gA_jvemg4St5"
      },
      "execution_count": 1,
      "outputs": []
    },
    {
      "cell_type": "code",
      "source": [
        "nlp = spacy.load('en_core_web_sm')"
      ],
      "metadata": {
        "id": "6whcVzFa4j0U"
      },
      "execution_count": 2,
      "outputs": []
    },
    {
      "cell_type": "code",
      "source": [
        "doc = nlp(u'texts are specific tokens') # nlp(u'') is syntax for finding the tokens\n",
        "for tyoken in doc:\n",
        " print (tyoken.text)"
      ],
      "metadata": {
        "id": "_SaUTgZ24umM",
        "outputId": "86f59812-897b-4358-9623-e64ee05ce0d7",
        "colab": {
          "base_uri": "https://localhost:8080/"
        }
      },
      "execution_count": 5,
      "outputs": [
        {
          "output_type": "stream",
          "name": "stdout",
          "text": [
            "texts\n",
            "are\n",
            "specific\n",
            "tokens\n"
          ]
        }
      ]
    },
    {
      "cell_type": "code",
      "source": [
        "for tyoken in doc:\n",
        " print (tyoken.text , tyoken.pos) # pos for find the type of tokens numerically"
      ],
      "metadata": {
        "id": "nT3xlCDJ6QrC",
        "outputId": "3ec0da44-3274-4a3b-eafc-dcd1872cbefe",
        "colab": {
          "base_uri": "https://localhost:8080/"
        }
      },
      "execution_count": 6,
      "outputs": [
        {
          "output_type": "stream",
          "name": "stdout",
          "text": [
            "texts 92\n",
            "are 87\n",
            "specific 84\n",
            "tokens 92\n"
          ]
        }
      ]
    },
    {
      "cell_type": "code",
      "source": [
        "for tyoken in doc:\n",
        " print (tyoken.text,tyoken.pos_) # pos_ for finding the type of tokens gramatically in english"
      ],
      "metadata": {
        "id": "c2WbvcL56a6y",
        "outputId": "1ce30c98-87b4-4fbf-c259-8018ab510f01",
        "colab": {
          "base_uri": "https://localhost:8080/"
        }
      },
      "execution_count": 8,
      "outputs": [
        {
          "output_type": "stream",
          "name": "stdout",
          "text": [
            "texts NOUN\n",
            "are AUX\n",
            "specific ADJ\n",
            "tokens NOUN\n"
          ]
        }
      ]
    },
    {
      "cell_type": "code",
      "source": [
        "# creating pipeline\n",
        "nlp.pipeline"
      ],
      "metadata": {
        "id": "6TX1wd_863hZ",
        "outputId": "f72b2ae7-f15f-4c16-b303-1fa6d03b0f3c",
        "colab": {
          "base_uri": "https://localhost:8080/"
        }
      },
      "execution_count": 9,
      "outputs": [
        {
          "output_type": "execute_result",
          "data": {
            "text/plain": [
              "[('tok2vec', <spacy.pipeline.tok2vec.Tok2Vec at 0x7fd6417e72f0>),\n",
              " ('tagger', <spacy.pipeline.tagger.Tagger at 0x7fd6417e71a0>),\n",
              " ('parser', <spacy.pipeline.dep_parser.DependencyParser at 0x7fd641653f50>),\n",
              " ('attribute_ruler',\n",
              "  <spacy.pipeline.attributeruler.AttributeRuler at 0x7fd64157a9b0>),\n",
              " ('lemmatizer',\n",
              "  <spacy.lang.en.lemmatizer.EnglishLemmatizer at 0x7fd641580f00>),\n",
              " ('ner', <spacy.pipeline.ner.EntityRecognizer at 0x7fd641653e50>)]"
            ]
          },
          "metadata": {},
          "execution_count": 9
        }
      ]
    },
    {
      "cell_type": "code",
      "source": [
        "nlp.pipe_names"
      ],
      "metadata": {
        "id": "0e6pW9mE7rlK",
        "outputId": "f6b749ef-ec7f-467d-cff8-d4c7b211fe0e",
        "colab": {
          "base_uri": "https://localhost:8080/"
        }
      },
      "execution_count": 10,
      "outputs": [
        {
          "output_type": "execute_result",
          "data": {
            "text/plain": [
              "['tok2vec', 'tagger', 'parser', 'attribute_ruler', 'lemmatizer', 'ner']"
            ]
          },
          "metadata": {},
          "execution_count": 10
        }
      ]
    },
    {
      "cell_type": "code",
      "source": [
        "doc2 =nlp(u'Tesla is not looking into startups')\n",
        "for token in doc2:\n",
        "  print (token.text, token.pos_, token.dep_)"
      ],
      "metadata": {
        "id": "wHZiKhw-5ztj",
        "outputId": "fc5fa995-008f-423e-bc1c-ec258173dcf1",
        "colab": {
          "base_uri": "https://localhost:8080/"
        }
      },
      "execution_count": 11,
      "outputs": [
        {
          "output_type": "stream",
          "name": "stdout",
          "text": [
            "Tesla PROPN nsubj\n",
            "is AUX aux\n",
            "not PART neg\n",
            "looking VERB ROOT\n",
            "into ADP prep\n",
            "startups NOUN pobj\n"
          ]
        }
      ]
    },
    {
      "cell_type": "code",
      "source": [
        "doc2[0].pos_"
      ],
      "metadata": {
        "id": "WV26CiWl81cz",
        "outputId": "392c0264-8ee4-471f-e263-8a6563bf8495",
        "colab": {
          "base_uri": "https://localhost:8080/",
          "height": 35
        }
      },
      "execution_count": 12,
      "outputs": [
        {
          "output_type": "execute_result",
          "data": {
            "text/plain": [
              "'PROPN'"
            ],
            "application/vnd.google.colaboratory.intrinsic+json": {
              "type": "string"
            }
          },
          "metadata": {},
          "execution_count": 12
        }
      ]
    },
    {
      "cell_type": "code",
      "source": [
        "doc[0].dep_"
      ],
      "metadata": {
        "id": "bsLNBbHd9L5o",
        "outputId": "33b291f2-bd69-4c89-9cbc-275caeba13cf",
        "colab": {
          "base_uri": "https://localhost:8080/",
          "height": 35
        }
      },
      "execution_count": 13,
      "outputs": [
        {
          "output_type": "execute_result",
          "data": {
            "text/plain": [
              "'nsubj'"
            ],
            "application/vnd.google.colaboratory.intrinsic+json": {
              "type": "string"
            }
          },
          "metadata": {},
          "execution_count": 13
        }
      ]
    },
    {
      "cell_type": "code",
      "source": [
        "doc2[0].lemma_"
      ],
      "metadata": {
        "id": "N4pkqETq9ty_",
        "outputId": "1f803dcf-85f3-4ef4-f879-5bb6464002c6",
        "colab": {
          "base_uri": "https://localhost:8080/",
          "height": 35
        }
      },
      "execution_count": 15,
      "outputs": [
        {
          "output_type": "execute_result",
          "data": {
            "text/plain": [
              "'Tesla'"
            ],
            "application/vnd.google.colaboratory.intrinsic+json": {
              "type": "string"
            }
          },
          "metadata": {},
          "execution_count": 15
        }
      ]
    },
    {
      "cell_type": "code",
      "source": [
        "doc2[0].tag_"
      ],
      "metadata": {
        "id": "EPBA7gSl99-o",
        "outputId": "49622ddc-5812-4483-f28b-a642e4b5ae83",
        "colab": {
          "base_uri": "https://localhost:8080/",
          "height": 35
        }
      },
      "execution_count": 16,
      "outputs": [
        {
          "output_type": "execute_result",
          "data": {
            "text/plain": [
              "'NNP'"
            ],
            "application/vnd.google.colaboratory.intrinsic+json": {
              "type": "string"
            }
          },
          "metadata": {},
          "execution_count": 16
        }
      ]
    },
    {
      "cell_type": "code",
      "source": [
        "doc2[0].shape_"
      ],
      "metadata": {
        "id": "pW8lsKSc-HS-",
        "outputId": "fb1909c5-9a41-4ef4-d21c-63a4ff8e4f5c",
        "colab": {
          "base_uri": "https://localhost:8080/",
          "height": 35
        }
      },
      "execution_count": 17,
      "outputs": [
        {
          "output_type": "execute_result",
          "data": {
            "text/plain": [
              "'Xxxxx'"
            ],
            "application/vnd.google.colaboratory.intrinsic+json": {
              "type": "string"
            }
          },
          "metadata": {},
          "execution_count": 17
        }
      ]
    },
    {
      "cell_type": "code",
      "source": [
        "doc2[0].is_stop # is_stop stands for part of stop list the most commom words in language"
      ],
      "metadata": {
        "id": "deothLyJ-OGh",
        "outputId": "c77c349c-5051-49c3-ae01-4e270b43ed71",
        "colab": {
          "base_uri": "https://localhost:8080/"
        }
      },
      "execution_count": 19,
      "outputs": [
        {
          "output_type": "execute_result",
          "data": {
            "text/plain": [
              "False"
            ]
          },
          "metadata": {},
          "execution_count": 19
        }
      ]
    },
    {
      "cell_type": "code",
      "source": [
        "doc2[0].is_alpha"
      ],
      "metadata": {
        "id": "yBIxHuHa-pFe",
        "outputId": "886113c5-90a8-475a-c694-980a4451f40a",
        "colab": {
          "base_uri": "https://localhost:8080/"
        }
      },
      "execution_count": 20,
      "outputs": [
        {
          "output_type": "execute_result",
          "data": {
            "text/plain": [
              "True"
            ]
          },
          "metadata": {},
          "execution_count": 20
        }
      ]
    },
    {
      "cell_type": "code",
      "source": [
        "doc3 =nlp( u\"we sometimes talk to people and let them know that 'Life is what happens to us while we are making other plans'\")\n",
        "\n",
        "life_quote = doc3[11:24]\n",
        "print(life_quote)\n"
      ],
      "metadata": {
        "id": "-THIP5Al-zVu",
        "outputId": "ad2f913d-b92c-441c-f135-f64cc99c835e",
        "colab": {
          "base_uri": "https://localhost:8080/"
        }
      },
      "execution_count": 24,
      "outputs": [
        {
          "output_type": "stream",
          "name": "stdout",
          "text": [
            "Life is what happens to us while we are making other plans'\n"
          ]
        }
      ]
    },
    {
      "cell_type": "code",
      "source": [
        "type(life_quote)"
      ],
      "metadata": {
        "id": "6urK-WBGCBT2",
        "outputId": "fee0679a-8c88-4968-9c59-89797a53e75b",
        "colab": {
          "base_uri": "https://localhost:8080/"
        }
      },
      "execution_count": 25,
      "outputs": [
        {
          "output_type": "execute_result",
          "data": {
            "text/plain": [
              "spacy.tokens.span.Span"
            ]
          },
          "metadata": {},
          "execution_count": 25
        }
      ]
    },
    {
      "cell_type": "code",
      "source": [
        "type(doc3)"
      ],
      "metadata": {
        "id": "H96wyvvjCGgj",
        "outputId": "cccef3d7-1868-4eb3-fa96-32704269caaf",
        "colab": {
          "base_uri": "https://localhost:8080/"
        }
      },
      "execution_count": 26,
      "outputs": [
        {
          "output_type": "execute_result",
          "data": {
            "text/plain": [
              "spacy.tokens.doc.Doc"
            ]
          },
          "metadata": {},
          "execution_count": 26
        }
      ]
    },
    {
      "cell_type": "code",
      "source": [
        "doc4 = nlp(u'This is first. This is second. This is third')\n",
        "for sentence in doc4.sents:\n",
        "  print(sentence)"
      ],
      "metadata": {
        "id": "mwZNwjrwCLb2",
        "outputId": "d57ab259-10b7-4b0d-9723-57ff30c3b0d7",
        "colab": {
          "base_uri": "https://localhost:8080/"
        }
      },
      "execution_count": 27,
      "outputs": [
        {
          "output_type": "stream",
          "name": "stdout",
          "text": [
            "This is first.\n",
            "This is second.\n",
            "This is third\n"
          ]
        }
      ]
    },
    {
      "cell_type": "code",
      "source": [
        "doc4[4].is_sent_start"
      ],
      "metadata": {
        "id": "zrwbz3-ZClcj",
        "outputId": "40ea65b5-58bb-4f9c-d82d-6ff3b9eb62fa",
        "colab": {
          "base_uri": "https://localhost:8080/"
        }
      },
      "execution_count": 28,
      "outputs": [
        {
          "output_type": "execute_result",
          "data": {
            "text/plain": [
              "True"
            ]
          },
          "metadata": {},
          "execution_count": 28
        }
      ]
    }
  ]
}